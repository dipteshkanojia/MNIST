{
 "cells": [
  {
   "cell_type": "code",
   "execution_count": 2,
   "id": "2d99b3ec-4145-4322-85a1-84a236d0c18b",
   "metadata": {},
   "outputs": [
    {
     "name": "stdout",
     "output_type": "stream",
     "text": [
      "Imported the EMNIST libraries we need!\n"
     ]
    }
   ],
   "source": [
    "# STEP 1.1\n",
    "\n",
    "# !git clone https://github.com/sorki/python-mnist\n",
    "# !./python-mnist/bin/mnist_get_data.sh\n",
    "# !pip3 install emnist\n",
    "from emnist import extract_training_samples\n",
    "\n",
    "print(\"Imported the EMNIST libraries we need!\")"
   ]
  },
  {
   "cell_type": "code",
   "execution_count": 3,
   "id": "6db0a6bb-9435-4aee-b40d-0a5c6e733f62",
   "metadata": {},
   "outputs": [
    {
     "name": "stdout",
     "output_type": "stream",
     "text": [
      "Extracted our samples and divided our training and testing data sets\n"
     ]
    }
   ],
   "source": [
    "# Grab the data from the OpenML website\n",
    "# X will be our images and y will be the labels\n",
    "X, y = extract_training_samples('letters')\n",
    "\n",
    "# Make sure that every pixel in all of the images is a value between 0 and 1\n",
    "X = X / 255.\n",
    "\n",
    "# Use the first 60000 instances as training and the next 10000 as testing\n",
    "X_train, X_test = X[:60000], X[60000:70000]\n",
    "y_train, y_test = y[:60000], y[60000:70000]\n",
    "\n",
    "# There is one other thing we need to do, we need to\n",
    "# record the number of samples in each dataset and the number of pixels in each image\n",
    "X_train = X_train.reshape(60000,784)\n",
    "X_test = X_test.reshape(10000,784)\n",
    "\n",
    "print(\"Extracted our samples and divided our training and testing data sets\")"
   ]
  },
  {
   "cell_type": "code",
   "execution_count": 4,
   "id": "e103bee4-8545-4b77-b2e6-1dbb5fb8df49",
   "metadata": {},
   "outputs": [
    {
     "name": "stdout",
     "output_type": "stream",
     "text": [
      "Image Label: l\n"
     ]
    },
    {
     "data": {
      "text/plain": [
       "<matplotlib.image.AxesImage at 0x7f3214e5db20>"
      ]
     },
     "execution_count": 4,
     "metadata": {},
     "output_type": "execute_result"
    },
    {
     "data": {
      "image/png": "[encoded data removed]",
      "text/plain": [
       "<Figure size 432x288 with 1 Axes>"
      ]
     },
     "metadata": {
      "needs_background": "light"
     },
     "output_type": "display_data"
    }
   ],
   "source": [
    "import matplotlib.pyplot as plt\n",
    "\n",
    "img_index = 57 # <<<<<  You can update this value to look at other images\n",
    "img = X_train[img_index]\n",
    "print(\"Image Label: \" + str(chr(y_train[img_index]+96)))\n",
    "plt.imshow(img.reshape((28,28)))"
   ]
  },
  {
   "cell_type": "code",
   "execution_count": 9,
   "id": "e39755b0-0979-4093-8126-939716c7f6a9",
   "metadata": {},
   "outputs": [
    {
     "name": "stdout",
     "output_type": "stream",
     "text": [
      "Created our first MLP network\n"
     ]
    }
   ],
   "source": [
    "# These two lines import the ML libraries we need\n",
    "from sklearn.datasets import fetch_openml\n",
    "from sklearn.neural_network import MLPClassifier\n",
    "\n",
    "# This creates our first MLP with 1 hidden layer with 50 neurons and sets it to run through the data 20 times\n",
    "mlp1 = MLPClassifier(hidden_layer_sizes=(50,), max_iter=20, alpha=1e-4,\n",
    "                    solver='sgd', verbose=10, tol=1e-4, random_state=1,\n",
    "                    learning_rate_init=.1)\n",
    "\n",
    "print(\"Created our first MLP network\")"
   ]
  },
  {
   "cell_type": "code",
   "execution_count": 10,
   "id": "f8d48f9d-cb03-406d-915b-05b3f1e9ae9d",
   "metadata": {},
   "outputs": [
    {
     "name": "stdout",
     "output_type": "stream",
     "text": [
      "Iteration 1, loss = 1.06351395\n",
      "Iteration 2, loss = 0.64844650\n",
      "Iteration 3, loss = 0.56103245\n",
      "Iteration 4, loss = 0.51987725\n",
      "Iteration 5, loss = 0.49182099\n",
      "Iteration 6, loss = 0.47301057\n",
      "Iteration 7, loss = 0.45839220\n",
      "Iteration 8, loss = 0.44603836\n",
      "Iteration 9, loss = 0.43479721\n",
      "Iteration 10, loss = 0.42809575\n",
      "Iteration 11, loss = 0.41639233\n",
      "Iteration 12, loss = 0.40782908\n",
      "Iteration 13, loss = 0.40548360\n",
      "Iteration 14, loss = 0.39965983\n",
      "Iteration 15, loss = 0.39296832\n",
      "Iteration 16, loss = 0.38883219\n",
      "Iteration 17, loss = 0.38393955\n",
      "Iteration 18, loss = 0.37948343\n",
      "Iteration 19, loss = 0.37307616\n",
      "Iteration 20, loss = 0.37166732\n",
      "Iteration 21, loss = 0.36703635\n",
      "Iteration 22, loss = 0.36357559\n",
      "Iteration 23, loss = 0.36073798\n",
      "Iteration 24, loss = 0.35711691\n",
      "Iteration 25, loss = 0.35309283\n",
      "Iteration 26, loss = 0.34784002\n",
      "Iteration 27, loss = 0.34588190\n",
      "Iteration 28, loss = 0.34274738\n",
      "Iteration 29, loss = 0.33743685\n",
      "Iteration 30, loss = 0.33963232\n",
      "Iteration 31, loss = 0.33302619\n",
      "Iteration 32, loss = 0.32993861\n",
      "Iteration 33, loss = 0.32931447\n",
      "Iteration 34, loss = 0.32867731\n",
      "Iteration 35, loss = 0.32436041\n",
      "Iteration 36, loss = 0.32427258\n",
      "Iteration 37, loss = 0.31977474\n",
      "Iteration 38, loss = 0.32082370\n",
      "Iteration 39, loss = 0.31699973\n",
      "Iteration 40, loss = 0.31497999\n"
     ]
    },
    {
     "name": "stderr",
     "output_type": "stream",
     "text": [
      "/home/diptesh/anaconda3/lib/python3.8/site-packages/sklearn/neural_network/_multilayer_perceptron.py:614: ConvergenceWarning: Stochastic Optimizer: Maximum iterations (40) reached and the optimization hasn't converged yet.\n",
      "  warnings.warn(\n"
     ]
    },
    {
     "name": "stdout",
     "output_type": "stream",
     "text": [
      "Training set score: 0.903250\n",
      "Test set score: 0.841600\n"
     ]
    }
   ],
   "source": [
    "mlp1.fit(X_train, y_train)\n",
    "print(\"Training set score: %f\" % mlp1.score(X_train, y_train))\n",
    "print(\"Test set score: %f\" % mlp1.score(X_test, y_test))"
   ]
  },
  {
   "cell_type": "code",
   "execution_count": 11,
   "id": "c3a0e635-fee8-4011-8a66-1a998e3b7b10",
   "metadata": {},
   "outputs": [
    {
     "data": {
      "text/plain": [
       "<matplotlib.image.AxesImage at 0x7f319b7ce130>"
      ]
     },
     "execution_count": 11,
     "metadata": {},
     "output_type": "execute_result"
    },
    {
     "data": {
      "image/png": "[encoded data removed]",
      "text/plain": [
       "<Figure size 288x288 with 1 Axes>"
      ]
     },
     "metadata": {
      "needs_background": "light"
     },
     "output_type": "display_data"
    }
   ],
   "source": [
    "# First let's initialize a list with all the predicted values from the training set\n",
    "y_pred = mlp1.predict(X_test)\n",
    "\n",
    "# Now let's visualize the errors between the predictions and the actual labels using a confusion matrix\n",
    "from sklearn.metrics import confusion_matrix\n",
    "cm = confusion_matrix(y_test, y_pred)\n",
    "plt.matshow(cm)"
   ]
  },
  {
   "cell_type": "markdown",
   "id": "98f78c2f-72cc-4cbc-9772-e6bcce5bdd6b",
   "metadata": {},
   "source": [
    "## Trying SVM Linear Kernel"
   ]
  },
  {
   "cell_type": "code",
   "execution_count": 12,
   "id": "0c6e8dc6-d56b-49d3-acd9-f5f573022dc5",
   "metadata": {},
   "outputs": [
    {
     "data": {
      "text/plain": [
       "SVC(kernel='linear')"
      ]
     },
     "execution_count": 12,
     "metadata": {},
     "output_type": "execute_result"
    }
   ],
   "source": [
    "from sklearn import svm\n",
    "clf = svm.SVC(kernel='linear') # Linear Kernel\n",
    "clf.fit(X_train, y_train)"
   ]
  },
  {
   "cell_type": "code",
   "execution_count": 13,
   "id": "a3b69650-fd84-47c0-8979-a7a9da07c6b0",
   "metadata": {},
   "outputs": [
    {
     "name": "stdout",
     "output_type": "stream",
     "text": [
      "Accuracy: 0.8416\n"
     ]
    }
   ],
   "source": [
    "from sklearn import metrics\n",
    "print(\"Accuracy:\",metrics.accuracy_score(y_test, y_pred))\n",
    "y_pred = clf.predict(X_test)"
   ]
  },
  {
   "cell_type": "code",
   "execution_count": null,
   "id": "4b0b8fce-f38e-4dfb-8bc5-ad7212a09bbe",
   "metadata": {},
   "outputs": [],
   "source": [
    "# # Model Precision: what percentage of positive tuples are labeled as such?\n",
    "# print(\"Precision:\",metrics.precision_score(y_test, y_pred), average=None)\n",
    "\n",
    "# # Model Recall: what percentage of positive tuples are labelled as such?\n",
    "# print(\"Recall:\",metrics.recall_score(y_test, y_pred), average=None)"
   ]
  },
  {
   "cell_type": "code",
   "execution_count": 19,
   "id": "ae754f90-4752-42d5-88e5-79a445ecbd78",
   "metadata": {},
   "outputs": [
    {
     "name": "stdout",
     "output_type": "stream",
     "text": [
      "[[282   6   0  10   8   2   8  16   1   1   7   1   5   6   9   4  12   2\n",
      "    0   1   4   0   2   0   2   2]\n",
      " [  7 312   2  16   3   1  12  12   0   2   3   4   0   0   1   1   1   0\n",
      "    4   0   6   0   1   0   0   6]\n",
      " [  4   1 325   0  14   0  10   0   0   2   2   3   0   1   3   2   2   1\n",
      "    2   2   1   0   0   1   0   1]\n",
      " [  5  22   0 319   3   3   2   5   1   8   1   5   0   1   9   3   2   0\n",
      "    1   1   1   0   2   0   0   2]\n",
      " [  9   3  23   3 319   2   5   0   1   0   4   1   0   3   2   0   2   5\n",
      "    0   7   0   0   0   1   0   4]\n",
      " [  2   0   1   0   1 308   3   2   6   2   0   0   1   0   0  19   4   7\n",
      "    0  14   0   0   0   0   5   1]\n",
      " [ 20  11  11   4   4   4 213   5   2   7   0   1   1   1   1   3  54   1\n",
      "   20   3   2   0   2   0   4   2]\n",
      " [ 13   8   0   5   2   1   1 292   5   0  12   7   7  14   0   1   0   0\n",
      "    0   2   6   2   2   1   1   0]\n",
      " [  1   1   2   3   0   1   2   1 281  11   1  94   0   0   0   0   2   2\n",
      "    0   3   0   0   0   7   1   4]\n",
      " [  1   3   0  17   0   5   5   5  14 308   0   7   1   0   0   0   1   4\n",
      "   11   3   2   0   0   1   1   0]\n",
      " [  5   1   7   2   3   2   1  27   2   0 310   4   1   5   0   0   0  12\n",
      "    0   2   5   4   1   5   0   0]\n",
      " [  0   2   2   5   0   0   0   2  89   3   3 260   0   0   0   0   0   1\n",
      "    0   2   0   0   1   1   2   0]\n",
      " [  7   0   0   2   0   0   0   4   0   0   0   0 335  22   1   1   1   2\n",
      "    0   2   1   0   1   0   1   0]\n",
      " [ 13   1   0   2   1   2   1  12   0   0   3   0  12 265   0   4   2   6\n",
      "    0   0   9   2  10   3   0   1]\n",
      " [  8   5  10  15   2   0   7   0   0   2   0   0   1   6 323   0   3   0\n",
      "    1   0   1   2   0   1   0   1]\n",
      " [  1   0   2   1   3  21   0   0   0   1   1   0   0   4   4 343   3   4\n",
      "    0   3   0   0   0   1   2   0]\n",
      " [ 29   5   2   7   5   7  52   1   2   2   1   0   1   0   5   6 223   0\n",
      "    0   9   2   0   0   3   2   2]\n",
      " [  6   1   5   1   8  13   0   3   1   0  11   1   2   6   2  14   6 294\n",
      "    0  11   0   2   1   2   5   1]\n",
      " [  2  12   1   2   0   1  24   0   5  13   1   1   0   0   1   1   3   1\n",
      "  303   0   0   0   0   1   0   0]\n",
      " [  3   0   8   2  10  34   0   3  10   5   1   2   1   1   2   1   5  23\n",
      "    1 240   0   1   0   2  16   0]\n",
      " [ 13   5   1  13   0   0   3   3   0   5   3   1   0   7   3   0   1   1\n",
      "    0   1 280  10   6   0   1   1]\n",
      " [  0   0   0   1   1   0   0   2   4   2   2   2   1  11   0   0   1  10\n",
      "    0   0  24 301   3   3  10   0]\n",
      " [  2   5   0   6   0   0   0   2   0   1   5   1   3  12   0   0   0   0\n",
      "    0   0  13   4 303   1   1   1]\n",
      " [  5   1   0   0   2   3   6   6   9   1  19   3   2   1   0   0   3   7\n",
      "    0   6   1  12   0 305   6   1]\n",
      " [  2   2   0   1   0   2   4   6   6  11   1   6   1   0   0   1   5   3\n",
      "    2  21   2  17   0   4 327   1]\n",
      " [ 10   8   3   6   7   4   5   1  15   6   4   5   0   4   0   0   4   2\n",
      "    2   7   0   0   2   3   0 302]]\n"
     ]
    },
    {
     "data": {
      "text/plain": [
       "<matplotlib.image.AxesImage at 0x7f318c896250>"
      ]
     },
     "execution_count": 19,
     "metadata": {},
     "output_type": "execute_result"
    },
    {
     "data": {
      "image/png": "[encoded data removed]",
      "text/plain": [
       "<Figure size 288x288 with 1 Axes>"
      ]
     },
     "metadata": {
      "needs_background": "light"
     },
     "output_type": "display_data"
    }
   ],
   "source": [
    "cm = confusion_matrix(y_test, y_pred)\n",
    "print(cm)\n",
    "plt.matshow(cm)"
   ]
  },
  {
   "cell_type": "markdown",
   "id": "9fbe7201-1527-464b-a29e-5f15afe18cad",
   "metadata": {},
   "source": [
    "## Trying SVM Polynomial"
   ]
  },
  {
   "cell_type": "code",
   "execution_count": null,
   "id": "fbbdb136-9297-4267-a5ce-c1fc15f64559",
   "metadata": {},
   "outputs": [],
   "source": [
    "from sklearn import svm\n",
    "clf = svm.SVC(kernel='poly') # Polynomial Kernel\n",
    "clf.fit(X_train, y_train)"
   ]
  },
  {
   "cell_type": "code",
   "execution_count": null,
   "id": "78b7072d-0066-4cba-8ebd-9a8489b47f9d",
   "metadata": {},
   "outputs": [],
   "source": [
    "from sklearn import metrics\n",
    "print(\"Accuracy:\",metrics.accuracy_score(y_test, y_pred))\n",
    "y_pred = clf.predict(X_test)"
   ]
  },
  {
   "cell_type": "code",
   "execution_count": null,
   "id": "92a2be8b-0125-4911-b363-333d52d0215a",
   "metadata": {},
   "outputs": [],
   "source": [
    "# Model Precision: what percentage of positive tuples are labeled as such?\n",
    "print(\"Precision:\",metrics.precision_score(y_test, y_pred), average='weighted')\n",
    "\n",
    "# Model Recall: what percentage of positive tuples are labelled as such?\n",
    "print(\"Recall:\",metrics.recall_score(y_test, y_pred), average='weighted')"
   ]
  },
  {
   "cell_type": "code",
   "execution_count": null,
   "id": "6f253799-579f-43fb-9b38-10ac6154b8ab",
   "metadata": {},
   "outputs": [],
   "source": [
    "cm = confusion_matrix(y_test, y_pred)\n",
    "plt.matshow(cm)"
   ]
  },
  {
   "cell_type": "markdown",
   "id": "2b945ba9-add2-4d01-a22c-fe90b414e95c",
   "metadata": {},
   "source": [
    "## Trying SVM Radial"
   ]
  },
  {
   "cell_type": "code",
   "execution_count": null,
   "id": "d8100a91-865e-4297-84a5-debeb1769a91",
   "metadata": {},
   "outputs": [],
   "source": [
    "from sklearn import svm\n",
    "clf = svm.SVC(kernel='rbf') # Polynomial Kernel\n",
    "clf.fit(X_train, y_train)"
   ]
  },
  {
   "cell_type": "code",
   "execution_count": null,
   "id": "15795a62-2b52-4f52-9429-cc2680984a8c",
   "metadata": {},
   "outputs": [],
   "source": [
    "from sklearn import metrics\n",
    "print(\"Accuracy:\",metrics.accuracy_score(y_test, y_pred))\n",
    "y_pred = clf.predict(X_test)"
   ]
  },
  {
   "cell_type": "code",
   "execution_count": null,
   "id": "786d5207-6805-43b7-a1da-d443e39ce4b5",
   "metadata": {},
   "outputs": [],
   "source": [
    "# Model Precision: what percentage of positive tuples are labeled as such?\n",
    "print(\"Precision:\",metrics.precision_score(y_test, y_pred), average='weighted')\n",
    "\n",
    "# Model Recall: what percentage of positive tuples are labelled as such?\n",
    "print(\"Recall:\",metrics.recall_score(y_test, y_pred), average='weighted')"
   ]
  },
  {
   "cell_type": "code",
   "execution_count": null,
   "id": "47bf7df2-d723-43a3-848a-29c9db6d94fe",
   "metadata": {},
   "outputs": [],
   "source": [
    "cm = confusion_matrix(y_test, y_pred)\n",
    "plt.matshow(cm)"
   ]
  },
  {
   "cell_type": "markdown",
   "id": "b8daa595-99bf-4da2-aff1-0a66c76925eb",
   "metadata": {},
   "source": [
    "## Trying Logistic Regression"
   ]
  },
  {
   "cell_type": "code",
   "execution_count": 43,
   "id": "ef14f366-f232-4dbf-a2ff-eaec9e5199d6",
   "metadata": {},
   "outputs": [
    {
     "name": "stderr",
     "output_type": "stream",
     "text": [
      "/home/diptesh/anaconda3/lib/python3.8/site-packages/sklearn/linear_model/_logistic.py:763: ConvergenceWarning: lbfgs failed to converge (status=1):\n",
      "STOP: TOTAL NO. of ITERATIONS REACHED LIMIT.\n",
      "\n",
      "Increase the number of iterations (max_iter) or scale the data as shown in:\n",
      "    https://scikit-learn.org/stable/modules/preprocessing.html\n",
      "Please also refer to the documentation for alternative solver options:\n",
      "    https://scikit-learn.org/stable/modules/linear_model.html#logistic-regression\n",
      "  n_iter_i = _check_optimize_result(\n"
     ]
    },
    {
     "data": {
      "text/plain": [
       "LogisticRegression()"
      ]
     },
     "execution_count": 43,
     "metadata": {},
     "output_type": "execute_result"
    }
   ],
   "source": [
    "from sklearn.linear_model import LogisticRegression\n",
    "clf = LogisticRegression(solver = 'lbfgs')\n",
    "clf.fit(X_train, y_train)"
   ]
  },
  {
   "cell_type": "code",
   "execution_count": 44,
   "id": "500b19e5-4d1f-461c-9c07-ea7ac1cf590a",
   "metadata": {},
   "outputs": [
    {
     "name": "stdout",
     "output_type": "stream",
     "text": [
      "Accuracy: 0.8416\n"
     ]
    }
   ],
   "source": [
    "print(\"Accuracy:\",metrics.accuracy_score(y_test, y_pred))\n",
    "y_pred = clf.predict(X_test)"
   ]
  },
  {
   "cell_type": "code",
   "execution_count": 45,
   "id": "d91e140f-2aa5-4a7a-a834-ce4fa7acacbb",
   "metadata": {},
   "outputs": [],
   "source": [
    "# # Model Precision: what percentage of positive tuples are labeled as such?\n",
    "# print(\"Precision:\",metrics.precision_score(y_test, y_pred), average='weighted')\n",
    "\n",
    "# # Model Recall: what percentage of positive tuples are labelled as such?\n",
    "# print(\"Recall:\",metrics.recall_score(y_test, y_pred), average='weighted')"
   ]
  },
  {
   "cell_type": "code",
   "execution_count": 47,
   "id": "7c45a5df-b198-4c83-bedb-361789c59345",
   "metadata": {},
   "outputs": [
    {
     "name": "stdout",
     "output_type": "stream",
     "text": [
      "[[215   3   0  19   8   6  11  20   0   1   9   1   8  18  16   9  18   3\n",
      "    0   1  10   0   3   2   2   8]\n",
      " [  6 277   2  24   6   0  15  19   4   4   4   3   2   0   4   0   4   1\n",
      "    3   2   2   1   1   3   2   5]\n",
      " [  6   0 306   1  17   0   5   0   0   1   8   7   0   0   5   2   4   4\n",
      "    4   3   2   0   1   1   0   0]\n",
      " [  4  24   0 274   2   0   4  12   2  10   3   7   0   1  24   4   7   0\n",
      "    2   0   7   3   3   0   1   2]\n",
      " [  6   4  26   1 295   3   5   2   0   0  11   2   0   6   2   0   3  11\n",
      "    6   8   0   0   0   1   0   2]\n",
      " [  0   0   2   0   4 289   3   1   0   3   0   1   2   0   0  26   7  12\n",
      "    2  14   0   0   0   1   7   2]\n",
      " [ 12  14  14   1   3   6 183   1   0  18   0   0   0   1   3   7  51   2\n",
      "   26  13   4   0   5   1  11   0]\n",
      " [  7   6   0   6   1   2   4 262   8   7  13  13   7  17   0   2   0   0\n",
      "    0   1   6   6   4   8   2   0]\n",
      " [  0   1   0   2   0   2   3   1 241  11   2 107   0   1   0   0   5   2\n",
      "    3   8   0   4   0  15   2   7]\n",
      " [  1   1   4  16   1   2   4   2  13 308   1  10   0   0   0   0   0   1\n",
      "   12   3   6   0   0   1   1   2]\n",
      " [  4   6   6   5   6   4   0  20   4   0 275  10   0   4   0   2   0  17\n",
      "    0   4   4   7   3  13   0   5]\n",
      " [  0   0   5   3   0   1   0   3  87   4   4 242   0   0   0   0   0   0\n",
      "    0   4   4   5   0   2   8   1]\n",
      " [  3   0   0   2   1   3   0   2   0   0   0   0 333  20   2   1   2   0\n",
      "    0   4   0   1   4   0   2   0]\n",
      " [ 14   5   1   2   0   3   0  16   0   0   9   0  12 227   3   1   2   4\n",
      "    0   2  11  12  18   4   0   3]\n",
      " [  7   4   4   8   1   1  14   0   0   2   0   0   1   7 323   2   3   2\n",
      "    1   0   3   0   1   1   0   3]\n",
      " [  1   0   2   0   4  13   0   0   1   0   1   0   0   4   2 331   3   7\n",
      "    0  14   1   1   1   1   6   1]\n",
      " [ 20   3   0   9   3  10  41   0   0   1   2   0   1   0   7  11 212   0\n",
      "    3  22   6   0   1   6   6   2]\n",
      " [  9   1   8   0   5  19   2   5   1   1  17   1   3   9   1  11  10 256\n",
      "    0  17   0   4   1   3   9   3]\n",
      " [  3   7   3   1   1   1  12   0   0  14   0   3   0   0   2   0   6   1\n",
      "  303   2   2   0   0   3   3   5]\n",
      " [  2   2   4   2  15  42   2   9   5   3   0   7   0   1   0   5   4  23\n",
      "    1 206   0   2   0   2  30   4]\n",
      " [ 15   3   1  11   1   0   0   7   0   0   4   2   0   6   5   0   2   2\n",
      "    0   0 266  19  12   0   2   0]\n",
      " [  0   0   1   2   1   0   0   1   4   0   5   4   0  16   2   0   1  18\n",
      "    0   0  23 283   7   2   8   0]\n",
      " [  2   4   0   3   1   0   1   3   0   0   2   0   4  10   1   1   0   0\n",
      "    0   0  10   3 313   1   1   0]\n",
      " [  6   0   0   0   0   4   6   5   6   1  17   5   2   5   1   0   2  13\n",
      "    2   6   0  22   0 284  12   0]\n",
      " [  2   3   0   1   0   3   5   3   2  10   0  13   0   0   0   2   3   3\n",
      "    2  32   3  15   0  10 313   0]\n",
      " [  9   6   0  11   6   3   8   1   5   4   5   4   1   4   0   2   5   1\n",
      "    1   4   3   1   2   9   2 303]]\n"
     ]
    },
    {
     "data": {
      "text/plain": [
       "<matplotlib.image.AxesImage at 0x7f32770ba640>"
      ]
     },
     "execution_count": 47,
     "metadata": {},
     "output_type": "execute_result"
    },
    {
     "data": {
      "image/png": "[encoded data removed]",
      "text/plain": [
       "<Figure size 288x288 with 1 Axes>"
      ]
     },
     "metadata": {
      "needs_background": "light"
     },
     "output_type": "display_data"
    }
   ],
   "source": [
    "cm = confusion_matrix(y_test, y_pred)\n",
    "print(cm)\n",
    "plt.matshow(cm)"
   ]
  },
  {
   "cell_type": "markdown",
   "id": "587f9771-ddf8-4b21-ae55-0e4be24b0320",
   "metadata": {},
   "source": [
    "## Back to MLP"
   ]
  },
  {
   "cell_type": "code",
   "execution_count": 50,
   "id": "46835201-f548-4f5b-8357-673bdde09caa",
   "metadata": {},
   "outputs": [
    {
     "name": "stdout",
     "output_type": "stream",
     "text": [
      "[[302   7   3   7   2   2   9   7   0   1   2   0   3   6   4   2  19   5\n",
      "    0   3   1   0   2   2   0   2]\n",
      " [  2 321   3   8   5   0  10  20   1   2   2   3   0   0   2   2   2   2\n",
      "    4   0   0   1   1   1   0   2]\n",
      " [  1   0 350   0   8   0   1   0   0   0   2   4   1   0   0   1   1   8\n",
      "    0   0   0   0   0   0   0   0]\n",
      " [  4  10   1 320   2   0   3   2   3   7   0   2   0   2  15   5   1   1\n",
      "    6   3   2   0   2   3   1   1]\n",
      " [  4   2  32   0 325   6   1   0   0   0   1   0   0   0   0   1   0  10\n",
      "    2   6   0   0   0   1   0   3]\n",
      " [  2   1   1   0   2 322   4   1   1   0   0   0   0   0   0  15   8   3\n",
      "    0  14   0   0   0   0   1   1]\n",
      " [  4   4   5   2   8   3 204   0   0   2   0   1   0   0   3   1 101   6\n",
      "   19   1   2   0   1   0   8   1]\n",
      " [  1   7   0   2   1   0   1 331   0   0   3   4   6   7   0   0   0   4\n",
      "    2   2   4   0   2   3   2   0]\n",
      " [  0   0   1   2   0   2   1   0 314   4   0  85   0   0   0   0   1   2\n",
      "    2   1   0   0   0   0   0   2]\n",
      " [  0   1   0   7   1   2   3   1  15 327   0   2   0   1   0   0   0   1\n",
      "   12  10   3   0   0   0   2   1]\n",
      " [  0   2   1   1   1   1   0  10   0   0 344   0   2   2   0   0   2  17\n",
      "    0   2   2   3   1   5   1   2]\n",
      " [  0   1   5   0   0   0   0   4  86   2   4 263   0   0   0   1   0   0\n",
      "    0   1   1   0   0   4   1   0]\n",
      " [  3   0   0   1   0   0   0   2   0   0   1   0 356   7   0   0   0   4\n",
      "    0   3   0   0   2   1   0   0]\n",
      " [  4   1   0   2   0   0   0   4   0   0   0   0  10 298   0   0   1  13\n",
      "    1   1   2   0  10   2   0   0]\n",
      " [  2   3   6   8   3   0   4   0   1   0   0   0   1   3 347   1   3   2\n",
      "    4   0   0   0   0   0   0   0]\n",
      " [  1   0   1   3   1   6   2   0   0   0   1   0   0   0   3 358   3  11\n",
      "    0   1   0   0   1   0   2   0]\n",
      " [ 17   1   3   2   2   3  25   0   0   0   0   0   1   1   5   9 285   0\n",
      "    5   2   2   0   0   2   1   0]\n",
      " [  9   3   1   0   4   1   1   1   0   0   1   1   1   2   0   6   2 352\n",
      "    0   4   1   2   1   1   1   1]\n",
      " [  1   2   1   1   0   2   3   0   1   3   0   1   0   0   1   0   1   0\n",
      "  354   0   0   0   0   1   0   0]\n",
      " [  0   3   2   0   6  10   2   0   2   2   0   0   0   0   0   0   1   6\n",
      "    0 333   0   1   1   0   2   0]\n",
      " [  2   1   2   0   0   0   1   0   0   2   0   0   0   4   2   0   1   0\n",
      "    0   0 331   8   3   0   1   0]\n",
      " [  0   1   0   0   0   0   0   0   1   1   0   0   0   6   0   0   0   8\n",
      "    0   0  34 315   4   0   8   0]\n",
      " [  1   2   0   0   0   0   0   1   0   1   1   0   1   9   0   0   0   0\n",
      "    0   0   3   2 337   0   2   0]\n",
      " [  3   1   0   0   3   0   1   3   4   0   6   3   2   2   0   0   3  13\n",
      "    0   0   0   8   1 331  12   3]\n",
      " [  0   2   1   1   0   1   3   1   3   4   0   0   0   0   0   1   6   2\n",
      "    2   5   2  19   2   3 367   0]\n",
      " [  6   1   3   3   7   4   2   0  15   0   2   1   1   0   0   2   2   4\n",
      "    1   5   1   0   0  11   0 329]]\n"
     ]
    },
    {
     "data": {
      "text/plain": [
       "<matplotlib.image.AxesImage at 0x7f3277078ca0>"
      ]
     },
     "execution_count": 50,
     "metadata": {},
     "output_type": "execute_result"
    },
    {
     "data": {
      "image/png": "[encoded data removed]",
      "text/plain": [
       "<Figure size 288x288 with 1 Axes>"
      ]
     },
     "metadata": {
      "needs_background": "light"
     },
     "output_type": "display_data"
    }
   ],
   "source": [
    "y_pred = mlp1.predict(X_test)\n",
    "cm = confusion_matrix(y_test, y_pred)\n",
    "print(cm)\n",
    "plt.matshow(cm)"
   ]
  },
  {
   "cell_type": "code",
   "execution_count": 49,
   "id": "74357020-115d-4b0b-ad6f-ed9312d0055a",
   "metadata": {},
   "outputs": [
    {
     "name": "stdout",
     "output_type": "stream",
     "text": [
      "There were 34 times that the letter v was predicted to be the letter u.\n"
     ]
    },
    {
     "data": {
      "image/png": "[encoded data removed]",
      "text/plain": [
       "<Figure size 432x288 with 1 Axes>"
      ]
     },
     "metadata": {
      "needs_background": "light"
     },
     "output_type": "display_data"
    }
   ],
   "source": [
    "# You can change this to any letters that you think the neural network may have confused...\n",
    "predicted_letter = 'u'\n",
    "actual_letter = 'v'\n",
    "\n",
    "# This code counts all mistakes for the letters above\n",
    "mistake_list = []\n",
    "for i in range(len(y_test)):\n",
    "  if (y_test[i] == (ord(actual_letter) - 96) and y_pred[i] == (ord(predicted_letter) - 96)):\n",
    "    mistake_list.append(i)\n",
    "print(\"There were \" + str(len(mistake_list)) + \" times that the letter \" + actual_letter + \" was predicted to be the letter \" + predicted_letter + \".\")\n",
    "\n",
    "# Once we know how many mistakes were made, we can change this to see an image of a particular one\n",
    "mistake_to_show = 4 # <<< e.g., change this to 3 if you want to see the 4th mistake\n",
    "\n",
    "# This code checks that the number mistake you asked for can be shown and if so, displays an image of it\n",
    "if (len(mistake_list)> mistake_to_show):\n",
    "  img = X_test[mistake_list[mistake_to_show]]\n",
    "  plt.imshow(img.reshape((28,28)))\n",
    "else:\n",
    "  print(\"Couldn't show mistake number \" + str(mistake_to_show + 1) + \" because there were only \" + str(len(mistake_list)) + \" mistakes to show!\")"
   ]
  },
  {
   "cell_type": "code",
   "execution_count": 33,
   "id": "caee17b5-d7a8-4c9f-8899-d9afa218a071",
   "metadata": {},
   "outputs": [
    {
     "name": "stdout",
     "output_type": "stream",
     "text": [
      "Iteration 1, loss = 1.06429486\n",
      "Iteration 2, loss = 0.61560892\n",
      "Iteration 3, loss = 0.53620608\n",
      "Iteration 4, loss = 0.49365112\n",
      "Iteration 5, loss = 0.46830123\n",
      "Iteration 6, loss = 0.44538334\n",
      "Iteration 7, loss = 0.42852649\n",
      "Iteration 8, loss = 0.41820114\n",
      "Iteration 9, loss = 0.40089229\n",
      "Iteration 10, loss = 0.39670897\n",
      "Iteration 11, loss = 0.38727373\n",
      "Iteration 12, loss = 0.37837569\n",
      "Iteration 13, loss = 0.37140595\n",
      "Iteration 14, loss = 0.36003681\n",
      "Iteration 15, loss = 0.36351089\n",
      "Iteration 16, loss = 0.35376022\n",
      "Iteration 17, loss = 0.35241392\n",
      "Iteration 18, loss = 0.34531980\n",
      "Iteration 19, loss = 0.34546771\n",
      "Iteration 20, loss = 0.33945247\n",
      "Iteration 21, loss = 0.33057164\n",
      "Iteration 22, loss = 0.32759774\n",
      "Iteration 23, loss = 0.33102812\n",
      "Iteration 24, loss = 0.32382911\n",
      "Iteration 25, loss = 0.32223391\n",
      "Iteration 26, loss = 0.31937297\n",
      "Iteration 27, loss = 0.31911277\n",
      "Iteration 28, loss = 0.31349517\n",
      "Iteration 29, loss = 0.31039403\n",
      "Iteration 30, loss = 0.31498092\n"
     ]
    },
    {
     "name": "stderr",
     "output_type": "stream",
     "text": [
      "/home/diptesh/anaconda3/lib/python3.8/site-packages/sklearn/neural_network/_multilayer_perceptron.py:614: ConvergenceWarning: Stochastic Optimizer: Maximum iterations (30) reached and the optimization hasn't converged yet.\n",
      "  warnings.warn(\n"
     ]
    },
    {
     "name": "stdout",
     "output_type": "stream",
     "text": [
      "Training set score: 0.901883\n",
      "Test set score: 0.857400\n"
     ]
    }
   ],
   "source": [
    "# Change some of the values in the below statement and re-run to see how they \n",
    "# affect performance!\n",
    "mlp2 = MLPClassifier(hidden_layer_sizes=(50,30,), max_iter=30, alpha=1e-4,\n",
    "                    solver='sgd', verbose=10, tol=1e-4, random_state=1,\n",
    "                    learning_rate_init=.1)\n",
    "mlp2.fit(X_train, y_train)\n",
    "print(\"Training set score: %f\" % mlp2.score(X_train, y_train))\n",
    "print(\"Test set score: %f\" % mlp2.score(X_test, y_test))"
   ]
  },
  {
   "cell_type": "code",
   "execution_count": 34,
   "id": "97c283bb-e34f-4a3d-af3d-42671282c356",
   "metadata": {},
   "outputs": [
    {
     "name": "stdout",
     "output_type": "stream",
     "text": [
      "00.jpg\t10.jpg\t20.jpg\t30.jpg\t40.jpg\t50.jpg\t60.jpg\t70.jpg\t80.jpg\t90.jpg\n",
      "01.jpg\t11.jpg\t21.jpg\t31.jpg\t41.jpg\t51.jpg\t61.jpg\t71.jpg\t81.jpg\t91.jpg\n",
      "02.jpg\t12.jpg\t22.jpg\t32.jpg\t42.jpg\t52.jpg\t62.jpg\t72.jpg\t82.jpg\t92.jpg\n",
      "03.jpg\t13.jpg\t23.jpg\t33.jpg\t43.jpg\t53.jpg\t63.jpg\t73.jpg\t83.jpg\t93.jpg\n",
      "04.jpg\t14.jpg\t24.jpg\t34.jpg\t44.jpg\t54.jpg\t64.jpg\t74.jpg\t84.jpg\t94.jpg\n",
      "05.jpg\t15.jpg\t25.jpg\t35.jpg\t45.jpg\t55.jpg\t65.jpg\t75.jpg\t85.jpg\t95.jpg\n",
      "06.jpg\t16.jpg\t26.jpg\t36.jpg\t46.jpg\t56.jpg\t66.jpg\t76.jpg\t86.jpg\t96.jpg\n",
      "07.jpg\t17.jpg\t27.jpg\t37.jpg\t47.jpg\t57.jpg\t67.jpg\t77.jpg\t87.jpg\t97.jpg\n",
      "08.jpg\t18.jpg\t28.jpg\t38.jpg\t48.jpg\t58.jpg\t68.jpg\t78.jpg\t88.jpg\t98.jpg\n",
      "09.jpg\t19.jpg\t29.jpg\t39.jpg\t49.jpg\t59.jpg\t69.jpg\t79.jpg\t89.jpg\t99.jpg\n",
      "/home/diptesh/workspace/MNIST\n"
     ]
    }
   ],
   "source": [
    "# STEP 4.1\n",
    "\n",
    "# Pulls the scanned data set from GitHub\n",
    "# !git clone https://github.com/crash-course-ai/lab1-neural-networks.git\n",
    "# !git pull\n",
    "!ls lab1-neural-networks/letters_mod\n",
    "!cd lab1-neural-networks/letters_mod\n",
    "!pwd\n",
    "\n",
    "# Puts all the data in the \"files\" variable\n",
    "import os\n",
    "path, dirs, files = next(os.walk(\"lab1-neural-networks/letters_mod/\"))\n",
    "files.sort()"
   ]
  },
  {
   "cell_type": "code",
   "execution_count": 42,
   "id": "e4e7038f-9daa-4281-b8bd-57e560caf58c",
   "metadata": {},
   "outputs": [
    {
     "name": "stdout",
     "output_type": "stream",
     "text": [
      "Imported the scanned images.\n"
     ]
    },
    {
     "data": {
      "text/plain": [
       "<matplotlib.image.AxesImage at 0x7f318d0397c0>"
      ]
     },
     "execution_count": 42,
     "metadata": {},
     "output_type": "execute_result"
    },
    {
     "data": {
      "image/png": "[encoded data removed]",
      "text/plain": [
       "<Figure size 432x288 with 1 Axes>"
      ]
     },
     "metadata": {
      "needs_background": "light"
     },
     "output_type": "display_data"
    }
   ],
   "source": [
    "# These libraries let us import the letters, resize them, and print them out\n",
    "import cv2\n",
    "import matplotlib.pyplot as plt\n",
    "\n",
    "# This code processes all the scanned images and adds them to the handwritten_story\n",
    "handwritten_story = []\n",
    "for i in range(len(files)):\n",
    "  img = cv2.imread(\"lab1-neural-networks/letters_mod/\"+files[i],cv2.IMREAD_GRAYSCALE)\n",
    "  handwritten_story.append(img)\n",
    "\n",
    "print(\"Imported the scanned images.\")\n",
    "\n",
    "plt.imshow(handwritten_story[4])  #<--- Change this index to see different letters"
   ]
  },
  {
   "cell_type": "code",
   "execution_count": 36,
   "id": "57472a58-1a1b-45bd-bdc1-027e0bb5b88e",
   "metadata": {},
   "outputs": [
    {
     "name": "stdout",
     "output_type": "stream",
     "text": [
      "Conversion to typed story complete!\n",
      "thejfavktjznjavrjpqwfrjsvppccesjejfelldenjlyyejthejwarjrgvajgatteayjdeesjskfvkrjandjtjenjalljatjfxce\n"
     ]
    }
   ],
   "source": [
    "# These are libraries we need to do some math on the image\n",
    "# to be able to give it to the MLP in the right format and to resize it to 28x28 pixels\n",
    "import numpy\n",
    "import cv2\n",
    "\n",
    "typed_story = \"\"\n",
    "for letter in handwritten_story:\n",
    "    letter = cv2.resize(letter, (28,28), interpolation = cv2.INTER_CUBIC)\n",
    "    single_item_array = (numpy.array(letter)).reshape(1,784)\n",
    "    prediction = mlp2.predict(single_item_array)\n",
    "    typed_story = typed_story + str(chr(prediction[0]+96))\n",
    "    \n",
    "print(\"Conversion to typed story complete!\")\n",
    "print(typed_story)"
   ]
  },
  {
   "cell_type": "code",
   "execution_count": 37,
   "id": "f910c6b2-e967-436b-98e2-68262d2d1dc7",
   "metadata": {},
   "outputs": [
    {
     "name": "stdout",
     "output_type": "stream",
     "text": [
      "Conversion to typed story complete!\n",
      "the favkt zn avr pqwfr svppcces e fell en lyye the war rgva gatteay dees skfvkr and tjen all at fxce\n"
     ]
    }
   ],
   "source": [
    "# This is a library we need to do some math on the image to be able to give it to the MLP in the right format\n",
    "import numpy\n",
    "\n",
    "typed_story = \"\"\n",
    "for letter in handwritten_story:\n",
    "  letter = cv2.resize(letter, (28,28), interpolation = cv2.INTER_CUBIC)\n",
    "    \n",
    "  #this bit of code checks to see if the image is just a blank space by looking at the color of all the pixels summed\n",
    "  total_pixel_value = 0\n",
    "  for j in range(28):\n",
    "    for k in range(28):\n",
    "      total_pixel_value += letter[j,k]\n",
    "  if total_pixel_value < 20:\n",
    "    typed_story = typed_story + \" \"\n",
    "  else:         #if it NOT a blank, it actually runs the prediction algorithm on it\n",
    "    single_item_array = (numpy.array(letter)).reshape(1,784)\n",
    "    prediction = mlp2.predict(single_item_array)\n",
    "    typed_story = typed_story + str(chr(prediction[0]+96))\n",
    "    \n",
    "print(\"Conversion to typed story complete!\")\n",
    "print(typed_story)"
   ]
  },
  {
   "cell_type": "code",
   "execution_count": 38,
   "id": "cee9ef3d-a264-48c9-b638-6ecb028325b7",
   "metadata": {},
   "outputs": [
    {
     "name": "stdout",
     "output_type": "stream",
     "text": [
      "Processed the scanned images.\n"
     ]
    },
    {
     "data": {
      "text/plain": [
       "<matplotlib.image.AxesImage at 0x7f318ce3ca00>"
      ]
     },
     "execution_count": 38,
     "metadata": {},
     "output_type": "execute_result"
    },
    {
     "data": {
      "image/png": "[encoded data removed]",
      "text/plain": [
       "<Figure size 432x288 with 1 Axes>"
      ]
     },
     "metadata": {
      "needs_background": "light"
     },
     "output_type": "display_data"
    }
   ],
   "source": [
    "# These steps process the scanned images to be in the same format and have the same properties as the EMNIST images\n",
    "# They are described by the EMNIST authors in detail here: https://arxiv.org/abs/1702.05373v1\n",
    "processed_story = []\n",
    "\n",
    "for img in handwritten_story:\n",
    "  #step 1: Apply Gaussian blur filter\n",
    "  img = cv2.GaussianBlur(img, (7,7), 0)\n",
    "  \n",
    "  #steps 2 and 3: Extract the Region of Interest in the image and center in square\n",
    "  points = cv2.findNonZero(img)\n",
    "  x, y, w, h = cv2.boundingRect(points)\n",
    "  if (w > 0 and h > 0):\n",
    "    if w > h:\n",
    "      y = y - (w-h)//2\n",
    "      img = img[y:y+w, x:x+w]\n",
    "    else:\n",
    "      x = x - (h-w)//2\n",
    "      img = img[y:y+h, x:x+h]\n",
    "     \n",
    "  #step 4: Resize and resample to be 28 x 28 pixels\n",
    "  img = cv2.resize(img, (28,28), interpolation = cv2.INTER_CUBIC)\n",
    "  \n",
    "  #step 5: Normalize pixels and reshape before adding to the new story array\n",
    "  img = img/255\n",
    "  img = img.reshape((28,28))\n",
    "  processed_story.append(img)\n",
    "\n",
    "print(\"Processed the scanned images.\")\n",
    "\n",
    "import matplotlib.pyplot as plt\n",
    "plt.imshow(processed_story[4]) #<<< change this index if you want to see a different letter from the story"
   ]
  },
  {
   "cell_type": "code",
   "execution_count": 39,
   "id": "c13ecc41-9fb3-4168-ac44-724581803034",
   "metadata": {},
   "outputs": [
    {
     "name": "stdout",
     "output_type": "stream",
     "text": [
      "Conversion to typed story complete!\n",
      "the faulf fn gur pqwer supplqes i fell in lgve the way yaur battery dgzs slawly and fhen all af ange\n"
     ]
    }
   ],
   "source": [
    "# This is a library we need to do some math on the image to be able to give it to the MLP in the right format\n",
    "import numpy\n",
    "\n",
    "typed_story = \"\"\n",
    "for letter in processed_story:\n",
    "  #this bit of code checks to see if the image is just a blank space by looking at the color of all the pixels summed\n",
    "  total_pixel_value = 0\n",
    "  for j in range(28):\n",
    "    for k in range(28):\n",
    "      total_pixel_value += letter[j,k]\n",
    "  if total_pixel_value < 20:\n",
    "    typed_story = typed_story + \" \"\n",
    "  else:         #if it NOT a blank, it actually runs the prediction algorithm on it\n",
    "    single_item_array = (numpy.array(letter)).reshape(1,784)\n",
    "    prediction = mlp2.predict(single_item_array)\n",
    "    typed_story = typed_story + str(chr(prediction[0]+96))\n",
    "    \n",
    "print(\"Conversion to typed story complete!\")\n",
    "print(typed_story)"
   ]
  },
  {
   "cell_type": "code",
   "execution_count": null,
   "id": "221ee282-4d05-45c2-8b9f-d014dd5f6872",
   "metadata": {},
   "outputs": [],
   "source": []
  }
 ],
 "metadata": {
  "kernelspec": {
   "display_name": "Python 3",
   "language": "python",
   "name": "python3"
  },
  "language_info": {
   "codemirror_mode": {
    "name": "ipython",
    "version": 3
   },
   "file_extension": ".py",
   "mimetype": "text/x-python",
   "name": "python",
   "nbconvert_exporter": "python",
   "pygments_lexer": "ipython3",
   "version": "3.8.8"
  }
 },
 "nbformat": 4,
 "nbformat_minor": 5
}
